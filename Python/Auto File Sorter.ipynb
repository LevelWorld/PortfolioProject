{
 "cells": [
  {
   "cell_type": "markdown",
   "id": "5d6f0fbd-5580-4cab-9e07-dbbc6bac94dd",
   "metadata": {},
   "source": [
    "# A File sorter by type"
   ]
  },
  {
   "cell_type": "code",
   "execution_count": 1,
   "id": "c97fc20e-649e-4efe-9df9-06f29b3da54b",
   "metadata": {},
   "outputs": [],
   "source": [
    "import os , shutil"
   ]
  },
  {
   "cell_type": "code",
   "execution_count": 2,
   "id": "c066023d-9e89-4632-9420-a6679e86b378",
   "metadata": {},
   "outputs": [],
   "source": [
    "path = r\"D:/Downloads - Copy (2)/\""
   ]
  },
  {
   "cell_type": "code",
   "execution_count": null,
   "id": "9c9d1256-8892-44c0-9378-c0cbd4981c18",
   "metadata": {},
   "outputs": [],
   "source": [
    "file_names = os.listdir(path)"
   ]
  },
  {
   "cell_type": "code",
   "execution_count": 39,
   "id": "880711e7-a3c6-42cc-8e73-73c794ac9e3a",
   "metadata": {},
   "outputs": [
    {
     "name": "stdout",
     "output_type": "stream",
     "text": [
      "D:/Downloads - Copy (2)/csvs\n",
      "D:/Downloads - Copy (2)/images\n",
      "D:/Downloads - Copy (2)/txts\n",
      "D:/Downloads - Copy (2)/other\n"
     ]
    }
   ],
   "source": [
    "folder_names = ['csvs', 'images', 'txts', 'other']\n",
    "for i in range (0,len(folder_names)):\n",
    "    if not os.path.exists(path + folder_names[i]):\n",
    "        print(path + folder_names[i])\n",
    "        os.makedirs(path + folder_names[i])\n",
    "    "
   ]
  },
  {
   "cell_type": "code",
   "execution_count": null,
   "id": "ea575286-7578-46f7-8180-679319fcd8a6",
   "metadata": {},
   "outputs": [],
   "source": [
    "for file in file_names:\n",
    "    if (\".csv\" in file or \".xlsx\" in file ) and not os.path.exists(path + \"csvs/\" + file):\n",
    "        shutil.move(path + file, path + \"csvs/\" + file )\n",
    "    elif (\".png\" in file or \".JPG\" in file or \".jpeg\" in file ) and not os.path.exists(path + \"images/\" + file):\n",
    "        shutil.move(path + file, path + \"images/\" + file )\n",
    "    elif \".txt\" in file  and not os.path.exists(path + \"txts/\" + file):\n",
    "        shutil.move(path + file, path + \"txts/\" + file )\n",
    "    else:\n",
    "        shutil.move(path + file, path + \"other/\" + file )\n",
    "    "
   ]
  },
  {
   "cell_type": "markdown",
   "id": "6b41c9e4-470f-4343-99e0-821beb4c27e6",
   "metadata": {},
   "source": [
    "# all in one"
   ]
  },
  {
   "cell_type": "code",
   "execution_count": 43,
   "id": "a9c72037-245d-4870-8231-406b0c5554dd",
   "metadata": {},
   "outputs": [
    {
     "name": "stdout",
     "output_type": "stream",
     "text": [
      "D:\\Downloads/csvs\n",
      "D:\\Downloads/images\n",
      "D:\\Downloads/txts\n",
      "D:\\Downloads/other\n"
     ]
    }
   ],
   "source": [
    "import os , shutil\n",
    "\n",
    "path = r\"D:\\Downloads/\"\n",
    "file_names = os.listdir(path)\n",
    "\n",
    "folder_names = ['csvs', 'images', 'txts', 'other']\n",
    "for i in range (0,len(folder_names)):\n",
    "    if not os.path.exists(path + folder_names[i]):\n",
    "        print(path + folder_names[i])\n",
    "        os.makedirs(path + folder_names[i])\n",
    "\n",
    "folder_names = ['csvs', 'images', 'txts', 'other']\n",
    "for i in range (0,len(folder_names)):\n",
    "    if not os.path.exists(path + folder_names[i]):\n",
    "        os.makedirs(path + folder_names[i])\n",
    "for file in file_names:\n",
    "    if (\".csv\" in file or \".xlsx\" in file ) and not os.path.exists(path + \"csvs/\" + file):\n",
    "        shutil.move(path + file, path + \"csvs/\" + file )\n",
    "    elif (\".png\" in file or \".JPG\" in file or \".jpeg\" in file ) and not os.path.exists(path + \"images/\" + file):\n",
    "        shutil.move(path + file, path + \"images/\" + file )\n",
    "    elif \".txt\" in file  and not os.path.exists(path + \"txts/\" + file):\n",
    "        shutil.move(path + file, path + \"txts/\" + file )\n",
    "    else:\n",
    "        shutil.move(path + file, path + \"other/\" + file )\n",
    "    "
   ]
  },
  {
   "cell_type": "code",
   "execution_count": null,
   "id": "068c32a4-80a9-4589-94d0-8366375b8e6e",
   "metadata": {},
   "outputs": [],
   "source": []
  },
  {
   "cell_type": "code",
   "execution_count": null,
   "id": "7f5eda8e-b1c7-4d49-aa62-407c67652b43",
   "metadata": {},
   "outputs": [],
   "source": []
  },
  {
   "cell_type": "code",
   "execution_count": null,
   "id": "6c04d15f-79d7-4323-af61-cdb331a029e4",
   "metadata": {},
   "outputs": [],
   "source": []
  },
  {
   "cell_type": "code",
   "execution_count": null,
   "id": "7ec94071-0156-4296-ab9a-207c38e0fdc2",
   "metadata": {},
   "outputs": [],
   "source": []
  }
 ],
 "metadata": {
  "kernelspec": {
   "display_name": "Python 3 (ipykernel)",
   "language": "python",
   "name": "python3"
  },
  "language_info": {
   "codemirror_mode": {
    "name": "ipython",
    "version": 3
   },
   "file_extension": ".py",
   "mimetype": "text/x-python",
   "name": "python",
   "nbconvert_exporter": "python",
   "pygments_lexer": "ipython3",
   "version": "3.11.7"
  }
 },
 "nbformat": 4,
 "nbformat_minor": 5
}
