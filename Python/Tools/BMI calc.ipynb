{
 "cells": [
  {
   "cell_type": "markdown",
   "id": "687bd0f7-4b3d-450f-8738-6713299d7590",
   "metadata": {},
   "source": [
    "# BMI Calculator"
   ]
  },
  {
   "cell_type": "code",
   "execution_count": 2,
   "id": "48a87fe1-f8f2-4011-a523-391af19b5b14",
   "metadata": {},
   "outputs": [
    {
     "name": "stdin",
     "output_type": "stream",
     "text": [
      "Enter your name:  John Smith\n",
      "Enter your weight in Lbs:  150\n",
      "Enter your hieight in inches:  72\n"
     ]
    },
    {
     "name": "stdout",
     "output_type": "stream",
     "text": [
      "20.341435185185187\n"
     ]
    }
   ],
   "source": [
    "name = input(\"Enter your name: \")\n",
    "weight = int(input(\"Enter your weight in Lbs: \"))\n",
    "height = int(input(\"Enter your hieight in inches: \"))\n",
    "BMI = (weight * 703) / (height **2)\n",
    "print(BMI)"
   ]
  },
  {
   "cell_type": "code",
   "execution_count": 3,
   "id": "3148d0c6-1fd0-4bef-9218-e3d1d0c7204f",
   "metadata": {},
   "outputs": [
    {
     "name": "stdout",
     "output_type": "stream",
     "text": [
      "150\n",
      "You are normal weight.\n"
     ]
    }
   ],
   "source": [
    "print(weight)\n",
    "if BMI > 0:\n",
    "    if BMI < 18.5:\n",
    "        print(\"You are underweight.\")\n",
    "    elif BMI <= 24.9:\n",
    "        print(\"You are normal weight.\")\n",
    "    elif BMI < 29.9:\n",
    "        print(\"You are overweight.\")\n",
    "    elif BMI < 34.9:\n",
    "        print(\"You are obese.\")\n",
    "    elif BMI < 39.9:\n",
    "        print(\"You are severly obese.\")\n",
    "    else :\n",
    "        print(\"You are morbidly obese.\")\n",
    "else:\n",
    "    print(\"Enter a valid input\")"
   ]
  }
 ],
 "metadata": {
  "kernelspec": {
   "display_name": "Python 3 (ipykernel)",
   "language": "python",
   "name": "python3"
  },
  "language_info": {
   "codemirror_mode": {
    "name": "ipython",
    "version": 3
   },
   "file_extension": ".py",
   "mimetype": "text/x-python",
   "name": "python",
   "nbconvert_exporter": "python",
   "pygments_lexer": "ipython3",
   "version": "3.11.7"
  }
 },
 "nbformat": 4,
 "nbformat_minor": 5
}
