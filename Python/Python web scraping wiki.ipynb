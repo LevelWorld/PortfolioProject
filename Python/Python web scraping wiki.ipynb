{
 "cells": [
  {
   "cell_type": "markdown",
   "id": "397679f3-b7d4-48ad-9b09-6f78dbd1f83d",
   "metadata": {},
   "source": [
    "# BeautifulSoup and Requests"
   ]
  },
  {
   "cell_type": "code",
   "execution_count": 1,
   "id": "c3c1908e-aefa-4259-9296-1c2c14865ab2",
   "metadata": {},
   "outputs": [],
   "source": [
    "from bs4 import BeautifulSoup\n",
    "import requests"
   ]
  },
  {
   "cell_type": "code",
   "execution_count": 6,
   "id": "20c2db02-7b39-418c-bfd6-d7ce6bde9695",
   "metadata": {},
   "outputs": [],
   "source": [
    "url = 'https://en.wikipedia.org/wiki/List_of_largest_companies_by_revenue'\n",
    "page = requests.get(url)\n",
    "soup = BeautifulSoup(page.text, 'html')"
   ]
  },
  {
   "cell_type": "code",
   "execution_count": 7,
   "id": "78252c61-0792-4683-84e3-5c426425771c",
   "metadata": {},
   "outputs": [],
   "source": [
    "table = soup.find('table')"
   ]
  },
  {
   "cell_type": "code",
   "execution_count": 8,
   "id": "f14f050a-c20b-46e6-99c3-85b1e2bb5eb9",
   "metadata": {},
   "outputs": [],
   "source": [
    "world_titles = table.find_all('th')"
   ]
  },
  {
   "cell_type": "code",
   "execution_count": 9,
   "id": "411f54c3-973c-4cd9-b194-87c9a23036a5",
   "metadata": {},
   "outputs": [
    {
     "name": "stdout",
     "output_type": "stream",
     "text": [
      "['Rank', 'Name', 'Industry', 'Revenue', 'Profit', 'Employees', 'Headquarters[note 1]', 'State-owned', 'Ref.', 'Revenue per worker']\n"
     ]
    }
   ],
   "source": [
    "world_tables_titles = [title.text.strip() for title in world_titles]\n",
    "while world_tables_titles[ len(world_tables_titles) - 1] != 'Revenue per worker':\n",
    "    world_tables_titles.pop()\n",
    "print(world_tables_titles)\n"
   ]
  },
  {
   "cell_type": "code",
   "execution_count": 10,
   "id": "e536b27a-54de-4d55-94a0-94d70f011ae8",
   "metadata": {},
   "outputs": [],
   "source": [
    "import pandas as pd"
   ]
  },
  {
   "cell_type": "code",
   "execution_count": 11,
   "id": "e23e34b7-c97e-442f-8112-d6a3f589489e",
   "metadata": {},
   "outputs": [
    {
     "data": {
      "text/html": [
       "<div>\n",
       "<style scoped>\n",
       "    .dataframe tbody tr th:only-of-type {\n",
       "        vertical-align: middle;\n",
       "    }\n",
       "\n",
       "    .dataframe tbody tr th {\n",
       "        vertical-align: top;\n",
       "    }\n",
       "\n",
       "    .dataframe thead th {\n",
       "        text-align: right;\n",
       "    }\n",
       "</style>\n",
       "<table border=\"1\" class=\"dataframe\">\n",
       "  <thead>\n",
       "    <tr style=\"text-align: right;\">\n",
       "      <th></th>\n",
       "      <th>Rank</th>\n",
       "      <th>Name</th>\n",
       "      <th>Industry</th>\n",
       "      <th>Revenue</th>\n",
       "      <th>Profit</th>\n",
       "      <th>Employees</th>\n",
       "      <th>Headquarters[note 1]</th>\n",
       "      <th>State-owned</th>\n",
       "      <th>Ref.</th>\n",
       "      <th>Revenue per worker</th>\n",
       "    </tr>\n",
       "  </thead>\n",
       "  <tbody>\n",
       "  </tbody>\n",
       "</table>\n",
       "</div>"
      ],
      "text/plain": [
       "Empty DataFrame\n",
       "Columns: [Rank, Name, Industry, Revenue, Profit, Employees, Headquarters[note 1], State-owned, Ref., Revenue per worker]\n",
       "Index: []"
      ]
     },
     "execution_count": 11,
     "metadata": {},
     "output_type": "execute_result"
    }
   ],
   "source": [
    "df  = pd.DataFrame(columns = world_tables_titles)\n",
    "df"
   ]
  },
  {
   "cell_type": "code",
   "execution_count": 12,
   "id": "317dc7f2-022b-4c9d-94ee-0b81104c6a84",
   "metadata": {},
   "outputs": [],
   "source": [
    "column_data = table.find_all('tr')"
   ]
  },
  {
   "cell_type": "code",
   "execution_count": 13,
   "id": "b9555aad-0ef3-4145-b772-69b9ce3ddae8",
   "metadata": {},
   "outputs": [],
   "source": [
    "count = 0\n",
    "for row in column_data[2:]:\n",
    "    count = count + 1\n",
    "    row_data = (row.find_all('td'))\n",
    "    individual_row_data = [title.text.strip() for title in row_data]\n",
    "    individual_row_data.insert(0,count)\n",
    "    length = len(df)\n",
    "    \n",
    "    df.loc[length] = individual_row_data"
   ]
  },
  {
   "cell_type": "code",
   "execution_count": 14,
   "id": "2be8e21d-51c7-432c-bdd9-27e1910dabec",
   "metadata": {},
   "outputs": [
    {
     "data": {
      "text/html": [
       "<div>\n",
       "<style scoped>\n",
       "    .dataframe tbody tr th:only-of-type {\n",
       "        vertical-align: middle;\n",
       "    }\n",
       "\n",
       "    .dataframe tbody tr th {\n",
       "        vertical-align: top;\n",
       "    }\n",
       "\n",
       "    .dataframe thead th {\n",
       "        text-align: right;\n",
       "    }\n",
       "</style>\n",
       "<table border=\"1\" class=\"dataframe\">\n",
       "  <thead>\n",
       "    <tr style=\"text-align: right;\">\n",
       "      <th></th>\n",
       "      <th>Rank</th>\n",
       "      <th>Name</th>\n",
       "      <th>Industry</th>\n",
       "      <th>Revenue</th>\n",
       "      <th>Profit</th>\n",
       "      <th>Employees</th>\n",
       "      <th>Headquarters[note 1]</th>\n",
       "      <th>State-owned</th>\n",
       "      <th>Ref.</th>\n",
       "      <th>Revenue per worker</th>\n",
       "    </tr>\n",
       "  </thead>\n",
       "  <tbody>\n",
       "    <tr>\n",
       "      <th>0</th>\n",
       "      <td>1</td>\n",
       "      <td>Walmart</td>\n",
       "      <td>Retail</td>\n",
       "      <td>$611,289</td>\n",
       "      <td>$11,680</td>\n",
       "      <td>2,100,000</td>\n",
       "      <td>United States</td>\n",
       "      <td></td>\n",
       "      <td>[1]</td>\n",
       "      <td>$291,090.00</td>\n",
       "    </tr>\n",
       "    <tr>\n",
       "      <th>1</th>\n",
       "      <td>2</td>\n",
       "      <td>Saudi Aramco</td>\n",
       "      <td>Oil and gas</td>\n",
       "      <td>$603,651</td>\n",
       "      <td>$159,069</td>\n",
       "      <td>70,496</td>\n",
       "      <td>Saudi Arabia</td>\n",
       "      <td></td>\n",
       "      <td>[4]</td>\n",
       "      <td>$8,562,911.37</td>\n",
       "    </tr>\n",
       "    <tr>\n",
       "      <th>2</th>\n",
       "      <td>3</td>\n",
       "      <td>Amazon</td>\n",
       "      <td>Retail</td>\n",
       "      <td>$574,785</td>\n",
       "      <td>$30,425</td>\n",
       "      <td>1,525,000</td>\n",
       "      <td>United States</td>\n",
       "      <td></td>\n",
       "      <td>[5]</td>\n",
       "      <td>$376,908.20</td>\n",
       "    </tr>\n",
       "    <tr>\n",
       "      <th>3</th>\n",
       "      <td>4</td>\n",
       "      <td>State Grid Corporation of China</td>\n",
       "      <td>Electricity</td>\n",
       "      <td>$530,009</td>\n",
       "      <td>$8,192</td>\n",
       "      <td>870,287</td>\n",
       "      <td>China</td>\n",
       "      <td></td>\n",
       "      <td>[6]</td>\n",
       "      <td>$609,004.85</td>\n",
       "    </tr>\n",
       "    <tr>\n",
       "      <th>4</th>\n",
       "      <td>5</td>\n",
       "      <td>Vitol</td>\n",
       "      <td>Commodities</td>\n",
       "      <td>$505,000</td>\n",
       "      <td>$15,000</td>\n",
       "      <td>1,560</td>\n",
       "      <td>Switzerland</td>\n",
       "      <td></td>\n",
       "      <td>[7][8]</td>\n",
       "      <td>$323,717,948.72</td>\n",
       "    </tr>\n",
       "  </tbody>\n",
       "</table>\n",
       "</div>"
      ],
      "text/plain": [
       "   Rank                             Name     Industry   Revenue    Profit  \\\n",
       "0     1                          Walmart       Retail  $611,289   $11,680   \n",
       "1     2                     Saudi Aramco  Oil and gas  $603,651  $159,069   \n",
       "2     3                           Amazon       Retail  $574,785   $30,425   \n",
       "3     4  State Grid Corporation of China  Electricity  $530,009    $8,192   \n",
       "4     5                            Vitol  Commodities  $505,000   $15,000   \n",
       "\n",
       "   Employees Headquarters[note 1] State-owned    Ref. Revenue per worker  \n",
       "0  2,100,000        United States                 [1]        $291,090.00  \n",
       "1     70,496         Saudi Arabia                 [4]      $8,562,911.37  \n",
       "2  1,525,000        United States                 [5]        $376,908.20  \n",
       "3    870,287                China                 [6]        $609,004.85  \n",
       "4      1,560          Switzerland              [7][8]    $323,717,948.72  "
      ]
     },
     "execution_count": 14,
     "metadata": {},
     "output_type": "execute_result"
    }
   ],
   "source": [
    "df.head()"
   ]
  },
  {
   "cell_type": "code",
   "execution_count": 174,
   "id": "ba0b1e5b-6a1b-4319-8407-15588ed3a4ce",
   "metadata": {},
   "outputs": [],
   "source": [
    "df.to_csv(r'D:\\career\\Python\\comp.csv', index = False)"
   ]
  },
  {
   "cell_type": "markdown",
   "id": "27d26784-c7ab-4496-b071-a64589469873",
   "metadata": {},
   "source": [
    "# all in one"
   ]
  },
  {
   "cell_type": "code",
   "execution_count": 177,
   "id": "cd2f5ed2-2fb5-4fd7-84f6-7682d8ff7fb5",
   "metadata": {},
   "outputs": [],
   "source": [
    "from bs4 import BeautifulSoup\n",
    "import requests\n",
    "import pandas as pd\n",
    "url = 'https://en.wikipedia.org/wiki/List_of_largest_companies_by_revenue'\n",
    "page = requests.get(url)\n",
    "soup = BeautifulSoup(page.text, 'html')\n",
    "\n",
    "table = soup.find('table')\n",
    "\n",
    "world_titles = table.find_all('th')\n",
    "world_tables_titles = [title.text.strip() for title in world_titles]\n",
    "while world_tables_titles[ len(world_tables_titles) - 1] != 'Revenue per worker':\n",
    "    world_tables_titles.pop()\n",
    "\n",
    "df  = pd.DataFrame(columns = world_tables_titles)\n",
    "df\n",
    "\n",
    "column_data = table.find_all('tr')\n",
    "count = 0\n",
    "for row in column_data[2:]:\n",
    "    count = count + 1\n",
    "    row_data = (row.find_all('td'))\n",
    "    individual_row_data = [title.text.strip() for title in row_data]\n",
    "    individual_row_data.insert(0,count)\n",
    "    length = len(df)\n",
    "    \n",
    "    df.loc[length] = individual_row_data\n",
    "\n",
    "df\n",
    "df.to_csv(r'D:\\career\\Python\\comp.csv', index = False)"
   ]
  },
  {
   "cell_type": "code",
   "execution_count": null,
   "id": "01edf90d-ca3d-4b44-a24d-bbc561af0589",
   "metadata": {},
   "outputs": [],
   "source": []
  }
 ],
 "metadata": {
  "kernelspec": {
   "display_name": "Python 3 (ipykernel)",
   "language": "python",
   "name": "python3"
  },
  "language_info": {
   "codemirror_mode": {
    "name": "ipython",
    "version": 3
   },
   "file_extension": ".py",
   "mimetype": "text/x-python",
   "name": "python",
   "nbconvert_exporter": "python",
   "pygments_lexer": "ipython3",
   "version": "3.11.7"
  }
 },
 "nbformat": 4,
 "nbformat_minor": 5
}
